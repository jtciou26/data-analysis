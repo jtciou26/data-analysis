{
 "cells": [
  {
   "cell_type": "markdown",
   "id": "16dc392e-e7be-48ca-8100-4086ffafa8ef",
   "metadata": {},
   "source": [
    "# 應用 RFM 模式分析線上學習與學員分類\n",
    "\n",
    "## 前言\n",
    "[JoSeal](https://www.joseal.app) 是一個線上學習平台，在其中一個學習社群中，共有近百位學員上限觀看教學影片。我們透過行銷常用的 RFM 模式進行分析，其中 R(新近度)和 F(頻率)與一般模型的定義相同，而 M 則由銷售金額(Monertay) 調整為觀看影片的累積長度(Minutes)，藉由 RFM 三者的分數，將學員做分類，以利社群管理者做進一步追蹤。"
   ]
  },
  {
   "cell_type": "markdown",
   "id": "f9b8a946-3048-4c85-ae50-de2e813d30bf",
   "metadata": {},
   "source": [
    "## 資料匯入與清理\n",
    "\n",
    "將觀看數據的資料下載為 csv，匯入後、篩選 2024 年上傳的影片，得到資料樣本數 982 筆，其中有學員數 105 位，影片 16 部、平均長度 27.32 分鐘、片總長度: 437.14分鐘。\n",
    "資料中包含以下欄位: \n",
    "\n",
    "- vc_updatedAt: 紀錄更新時間，用來計算新近度R\n",
    "- classroomId: 每部影片獨立的 id，同一學員每次觀看一部影片會有一筆紀錄，若重複觀看會增加新的紀錄\n",
    "- adjusted_learingTime: 調整的觀看時間，每筆以不超過影片長度兩倍為限，用來計算觀看長度M\n",
    "- userId: 每位學員的獨立 ids"
   ]
  },
  {
   "cell_type": "code",
   "execution_count": 43,
   "id": "fd15f92d-710d-4c76-9f12-682a44a8f644",
   "metadata": {},
   "outputs": [],
   "source": [
    "import pandas as pd\n",
    "import numpy as np\n",
    "import seaborn as sns\n",
    "import matplotlib.pyplot as plt\n",
    "import warnings\n",
    "warnings.filterwarnings('ignore')\n",
    "sns.set(font=['sans-serif'])\n",
    "sns.set_style(\"whitegrid\",{\"font.sans-serif\":['Microsoft JhengHei']})"
   ]
  },
  {
   "cell_type": "code",
   "execution_count": 44,
   "id": "7a049259-2120-4144-b4e2-935dfe8e8eee",
   "metadata": {
    "scrolled": true
   },
   "outputs": [
    {
     "data": {
      "text/html": [
       "<div>\n",
       "<style scoped>\n",
       "    .dataframe tbody tr th:only-of-type {\n",
       "        vertical-align: middle;\n",
       "    }\n",
       "\n",
       "    .dataframe tbody tr th {\n",
       "        vertical-align: top;\n",
       "    }\n",
       "\n",
       "    .dataframe thead th {\n",
       "        text-align: right;\n",
       "    }\n",
       "</style>\n",
       "<table border=\"1\" class=\"dataframe\">\n",
       "  <thead>\n",
       "    <tr style=\"text-align: right;\">\n",
       "      <th></th>\n",
       "      <th>duration_min</th>\n",
       "      <th>adjusted_learingTime</th>\n",
       "      <th>vc_updatedAt</th>\n",
       "      <th>userId</th>\n",
       "      <th>classroomId</th>\n",
       "    </tr>\n",
       "  </thead>\n",
       "  <tbody>\n",
       "    <tr>\n",
       "      <th>0</th>\n",
       "      <td>23.95</td>\n",
       "      <td>47.90</td>\n",
       "      <td>2024/6/18</td>\n",
       "      <td>6655cb45fec526cda5fcf3c2</td>\n",
       "      <td>6604d3c1ddee7910a5c5a891</td>\n",
       "    </tr>\n",
       "    <tr>\n",
       "      <th>1</th>\n",
       "      <td>31.63</td>\n",
       "      <td>23.55</td>\n",
       "      <td>2024/6/18</td>\n",
       "      <td>665d5ce1fec526cda54bd437</td>\n",
       "      <td>6594fbf6f5a58117e8a53471</td>\n",
       "    </tr>\n",
       "    <tr>\n",
       "      <th>2</th>\n",
       "      <td>23.95</td>\n",
       "      <td>0.78</td>\n",
       "      <td>2024/6/18</td>\n",
       "      <td>6048416fd32a05de2483b165</td>\n",
       "      <td>6604d3c1ddee7910a5c5a891</td>\n",
       "    </tr>\n",
       "    <tr>\n",
       "      <th>3</th>\n",
       "      <td>23.95</td>\n",
       "      <td>27.67</td>\n",
       "      <td>2024/6/17</td>\n",
       "      <td>6655cb45fec526cda5fcf3c2</td>\n",
       "      <td>6604d3c1ddee7910a5c5a891</td>\n",
       "    </tr>\n",
       "    <tr>\n",
       "      <th>4</th>\n",
       "      <td>31.63</td>\n",
       "      <td>0.05</td>\n",
       "      <td>2024/6/17</td>\n",
       "      <td>664eebf5d29eee6e9e135aa6</td>\n",
       "      <td>6594fbf6f5a58117e8a53471</td>\n",
       "    </tr>\n",
       "  </tbody>\n",
       "</table>\n",
       "</div>"
      ],
      "text/plain": [
       "   duration_min  adjusted_learingTime vc_updatedAt                    userId  \\\n",
       "0         23.95                 47.90    2024/6/18  6655cb45fec526cda5fcf3c2   \n",
       "1         31.63                 23.55    2024/6/18  665d5ce1fec526cda54bd437   \n",
       "2         23.95                  0.78    2024/6/18  6048416fd32a05de2483b165   \n",
       "3         23.95                 27.67    2024/6/17  6655cb45fec526cda5fcf3c2   \n",
       "4         31.63                  0.05    2024/6/17  664eebf5d29eee6e9e135aa6   \n",
       "\n",
       "                classroomId  \n",
       "0  6604d3c1ddee7910a5c5a891  \n",
       "1  6594fbf6f5a58117e8a53471  \n",
       "2  6604d3c1ddee7910a5c5a891  \n",
       "3  6604d3c1ddee7910a5c5a891  \n",
       "4  6594fbf6f5a58117e8a53471  "
      ]
     },
     "execution_count": 44,
     "metadata": {},
     "output_type": "execute_result"
    }
   ],
   "source": [
    "df1 = pd.read_csv('./data/viewclassrooms.csv',         \n",
    "                 usecols=[\"userId\", \"classroomId\", \"vc_updatedAt\", \"duration_min\", \"adjusted_learingTime\"],\n",
    "                sep=',', encoding='utf-8', encoding_errors='replace') \n",
    "df1.head()"
   ]
  },
  {
   "cell_type": "code",
   "execution_count": 45,
   "id": "7c57cd2c-78a2-4e94-aaff-1afb05f400a2",
   "metadata": {
    "scrolled": true
   },
   "outputs": [
    {
     "data": {
      "text/html": [
       "<div>\n",
       "<style scoped>\n",
       "    .dataframe tbody tr th:only-of-type {\n",
       "        vertical-align: middle;\n",
       "    }\n",
       "\n",
       "    .dataframe tbody tr th {\n",
       "        vertical-align: top;\n",
       "    }\n",
       "\n",
       "    .dataframe thead th {\n",
       "        text-align: right;\n",
       "    }\n",
       "</style>\n",
       "<table border=\"1\" class=\"dataframe\">\n",
       "  <thead>\n",
       "    <tr style=\"text-align: right;\">\n",
       "      <th></th>\n",
       "      <th>isHidden</th>\n",
       "      <th>classroomId</th>\n",
       "      <th>createdAt</th>\n",
       "    </tr>\n",
       "  </thead>\n",
       "  <tbody>\n",
       "    <tr>\n",
       "      <th>0</th>\n",
       "      <td>False</td>\n",
       "      <td>6604d3c1ddee7910a5c5a891</td>\n",
       "      <td>2024-03-28 10:19:00</td>\n",
       "    </tr>\n",
       "    <tr>\n",
       "      <th>1</th>\n",
       "      <td>False</td>\n",
       "      <td>65c057aa25f1987ae38bf0b3</td>\n",
       "      <td>2024-02-05 11:36:00</td>\n",
       "    </tr>\n",
       "    <tr>\n",
       "      <th>2</th>\n",
       "      <td>False</td>\n",
       "      <td>65c0576f25f198bd5e8beef4</td>\n",
       "      <td>2024-02-05 11:35:00</td>\n",
       "    </tr>\n",
       "    <tr>\n",
       "      <th>3</th>\n",
       "      <td>False</td>\n",
       "      <td>6594fdbd503ddd4ebd73b423</td>\n",
       "      <td>2024-01-03 14:25:00</td>\n",
       "    </tr>\n",
       "    <tr>\n",
       "      <th>5</th>\n",
       "      <td>False</td>\n",
       "      <td>6594fbf6f5a58117e8a53471</td>\n",
       "      <td>2024-01-03 14:17:00</td>\n",
       "    </tr>\n",
       "  </tbody>\n",
       "</table>\n",
       "</div>"
      ],
      "text/plain": [
       "   isHidden               classroomId           createdAt\n",
       "0     False  6604d3c1ddee7910a5c5a891 2024-03-28 10:19:00\n",
       "1     False  65c057aa25f1987ae38bf0b3 2024-02-05 11:36:00\n",
       "2     False  65c0576f25f198bd5e8beef4 2024-02-05 11:35:00\n",
       "3     False  6594fdbd503ddd4ebd73b423 2024-01-03 14:25:00\n",
       "5     False  6594fbf6f5a58117e8a53471 2024-01-03 14:17:00"
      ]
     },
     "execution_count": 45,
     "metadata": {},
     "output_type": "execute_result"
    }
   ],
   "source": [
    "df2 = pd.read_csv('./data/classroom_basic.csv',\n",
    "                  usecols=[\"classroomId\", \"createdAt\", \"isHidden\"],\n",
    "                  sep=',', encoding='utf-8', encoding_errors='replace') \n",
    "\n",
    "df2['createdAt'] = pd.to_datetime(df2['createdAt'], format='%Y/%m/%d, %H:%M')\n",
    "df2 = df2[(df2['isHidden'] == False) & (df2['createdAt'].dt.year == 2024)]\n",
    "df2.head()"
   ]
  },
  {
   "cell_type": "code",
   "execution_count": 46,
   "id": "7ce37bc0-4cb7-4b58-bcbb-bdeaf21a7e51",
   "metadata": {},
   "outputs": [
    {
     "data": {
      "text/html": [
       "<div>\n",
       "<style scoped>\n",
       "    .dataframe tbody tr th:only-of-type {\n",
       "        vertical-align: middle;\n",
       "    }\n",
       "\n",
       "    .dataframe tbody tr th {\n",
       "        vertical-align: top;\n",
       "    }\n",
       "\n",
       "    .dataframe thead th {\n",
       "        text-align: right;\n",
       "    }\n",
       "</style>\n",
       "<table border=\"1\" class=\"dataframe\">\n",
       "  <thead>\n",
       "    <tr style=\"text-align: right;\">\n",
       "      <th></th>\n",
       "      <th>duration_min</th>\n",
       "      <th>adjusted_learingTime</th>\n",
       "      <th>vc_updatedAt</th>\n",
       "      <th>userId</th>\n",
       "      <th>classroomId</th>\n",
       "      <th>isHidden</th>\n",
       "      <th>createdAt</th>\n",
       "    </tr>\n",
       "  </thead>\n",
       "  <tbody>\n",
       "    <tr>\n",
       "      <th>0</th>\n",
       "      <td>23.95</td>\n",
       "      <td>47.90</td>\n",
       "      <td>2024/6/18</td>\n",
       "      <td>6655cb45fec526cda5fcf3c2</td>\n",
       "      <td>6604d3c1ddee7910a5c5a891</td>\n",
       "      <td>False</td>\n",
       "      <td>2024-03-28 10:19:00</td>\n",
       "    </tr>\n",
       "    <tr>\n",
       "      <th>1</th>\n",
       "      <td>31.63</td>\n",
       "      <td>23.55</td>\n",
       "      <td>2024/6/18</td>\n",
       "      <td>665d5ce1fec526cda54bd437</td>\n",
       "      <td>6594fbf6f5a58117e8a53471</td>\n",
       "      <td>False</td>\n",
       "      <td>2024-01-03 14:17:00</td>\n",
       "    </tr>\n",
       "    <tr>\n",
       "      <th>2</th>\n",
       "      <td>23.95</td>\n",
       "      <td>0.78</td>\n",
       "      <td>2024/6/18</td>\n",
       "      <td>6048416fd32a05de2483b165</td>\n",
       "      <td>6604d3c1ddee7910a5c5a891</td>\n",
       "      <td>False</td>\n",
       "      <td>2024-03-28 10:19:00</td>\n",
       "    </tr>\n",
       "    <tr>\n",
       "      <th>3</th>\n",
       "      <td>23.95</td>\n",
       "      <td>27.67</td>\n",
       "      <td>2024/6/17</td>\n",
       "      <td>6655cb45fec526cda5fcf3c2</td>\n",
       "      <td>6604d3c1ddee7910a5c5a891</td>\n",
       "      <td>False</td>\n",
       "      <td>2024-03-28 10:19:00</td>\n",
       "    </tr>\n",
       "    <tr>\n",
       "      <th>4</th>\n",
       "      <td>31.63</td>\n",
       "      <td>0.05</td>\n",
       "      <td>2024/6/17</td>\n",
       "      <td>664eebf5d29eee6e9e135aa6</td>\n",
       "      <td>6594fbf6f5a58117e8a53471</td>\n",
       "      <td>False</td>\n",
       "      <td>2024-01-03 14:17:00</td>\n",
       "    </tr>\n",
       "  </tbody>\n",
       "</table>\n",
       "</div>"
      ],
      "text/plain": [
       "   duration_min  adjusted_learingTime vc_updatedAt                    userId  \\\n",
       "0         23.95                 47.90    2024/6/18  6655cb45fec526cda5fcf3c2   \n",
       "1         31.63                 23.55    2024/6/18  665d5ce1fec526cda54bd437   \n",
       "2         23.95                  0.78    2024/6/18  6048416fd32a05de2483b165   \n",
       "3         23.95                 27.67    2024/6/17  6655cb45fec526cda5fcf3c2   \n",
       "4         31.63                  0.05    2024/6/17  664eebf5d29eee6e9e135aa6   \n",
       "\n",
       "                classroomId  isHidden           createdAt  \n",
       "0  6604d3c1ddee7910a5c5a891     False 2024-03-28 10:19:00  \n",
       "1  6594fbf6f5a58117e8a53471     False 2024-01-03 14:17:00  \n",
       "2  6604d3c1ddee7910a5c5a891     False 2024-03-28 10:19:00  \n",
       "3  6604d3c1ddee7910a5c5a891     False 2024-03-28 10:19:00  \n",
       "4  6594fbf6f5a58117e8a53471     False 2024-01-03 14:17:00  "
      ]
     },
     "execution_count": 46,
     "metadata": {},
     "output_type": "execute_result"
    }
   ],
   "source": [
    "df = df1.merge(df2, on=\"classroomId\")\n",
    "df.head()"
   ]
  },
  {
   "cell_type": "code",
   "execution_count": 47,
   "id": "f193f73f-7757-4778-acb4-cc0333a684a8",
   "metadata": {},
   "outputs": [
    {
     "data": {
      "text/plain": [
       "(1023, 7)"
      ]
     },
     "execution_count": 47,
     "metadata": {},
     "output_type": "execute_result"
    }
   ],
   "source": [
    "df.shape"
   ]
  },
  {
   "cell_type": "code",
   "execution_count": 48,
   "id": "6706caef-20bc-4685-93a6-a0dc127565b4",
   "metadata": {},
   "outputs": [
    {
     "data": {
      "text/plain": [
       "duration_min            0\n",
       "adjusted_learingTime    0\n",
       "vc_updatedAt            0\n",
       "userId                  0\n",
       "classroomId             0\n",
       "isHidden                0\n",
       "createdAt               0\n",
       "dtype: int64"
      ]
     },
     "execution_count": 48,
     "metadata": {},
     "output_type": "execute_result"
    }
   ],
   "source": [
    "df.isna().sum()"
   ]
  },
  {
   "cell_type": "code",
   "execution_count": 49,
   "id": "d4c02606-6bf9-4bfa-b992-f1bfe6248214",
   "metadata": {},
   "outputs": [
    {
     "name": "stdout",
     "output_type": "stream",
     "text": [
      "樣本數: 982\n"
     ]
    }
   ],
   "source": [
    "df.drop_duplicates(subset=[\"userId\", \"classroomId\", \"vc_updatedAt\", \"adjusted_learingTime\"], keep=\"first\", inplace=True)\n",
    "record_count = df.shape[0]\n",
    "print(f'樣本數: {record_count}')"
   ]
  },
  {
   "cell_type": "code",
   "execution_count": 50,
   "id": "f1661c1b-d8be-429c-8ecc-edc3cc3e9864",
   "metadata": {},
   "outputs": [
    {
     "name": "stdout",
     "output_type": "stream",
     "text": [
      "學員數: 105\n",
      "影片數: 16\n",
      "影片平均長度: 27.32 mins\n",
      "影片總長度: 437.14 mins\n"
     ]
    }
   ],
   "source": [
    "user_count = df.userId.nunique()\n",
    "class_count = df.classroomId.nunique()\n",
    "duration_avg = df.groupby('classroomId')['duration_min'].max().mean().round(2)\n",
    "duration_sum = df.groupby('classroomId')['duration_min'].max().sum().round(2)\n",
    "\n",
    "print(f'學員數: {user_count}')\n",
    "print(f'影片數: {class_count}')\n",
    "print(f'影片平均長度: {duration_avg} mins')\n",
    "print(f'影片總長度: {duration_sum} mins')"
   ]
  },
  {
   "cell_type": "markdown",
   "id": "17b98e29-330f-4a22-ba6d-037c61f4bef1",
   "metadata": {},
   "source": [
    "## 資料分析與視覺化\n",
    "\n",
    "- 分別計算 RFM，合成 rfm_df 資料表"
   ]
  },
  {
   "cell_type": "code",
   "execution_count": 51,
   "id": "c64d4041-9ae0-461f-a1a6-9a5db2991d19",
   "metadata": {},
   "outputs": [
    {
     "name": "stdout",
     "output_type": "stream",
     "text": [
      "樣本最後日期: 2024-06-18\n"
     ]
    }
   ],
   "source": [
    "import datetime as dt\n",
    "df['date'] = pd.DatetimeIndex(df['vc_updatedAt']).date\n",
    "now = df['date'].max()\n",
    "print(f'樣本最後日期: {now}')"
   ]
  },
  {
   "cell_type": "code",
   "execution_count": 52,
   "id": "3a9babfd-1707-4923-b64a-4428ddcd40a4",
   "metadata": {},
   "outputs": [
    {
     "data": {
      "text/html": [
       "<div>\n",
       "<style scoped>\n",
       "    .dataframe tbody tr th:only-of-type {\n",
       "        vertical-align: middle;\n",
       "    }\n",
       "\n",
       "    .dataframe tbody tr th {\n",
       "        vertical-align: top;\n",
       "    }\n",
       "\n",
       "    .dataframe thead th {\n",
       "        text-align: right;\n",
       "    }\n",
       "</style>\n",
       "<table border=\"1\" class=\"dataframe\">\n",
       "  <thead>\n",
       "    <tr style=\"text-align: right;\">\n",
       "      <th></th>\n",
       "      <th>userId</th>\n",
       "      <th>lastWatchDate</th>\n",
       "      <th>recency</th>\n",
       "    </tr>\n",
       "  </thead>\n",
       "  <tbody>\n",
       "    <tr>\n",
       "      <th>0</th>\n",
       "      <td>6048416fd32a05de2483b165</td>\n",
       "      <td>2024-06-18</td>\n",
       "      <td>0</td>\n",
       "    </tr>\n",
       "    <tr>\n",
       "      <th>1</th>\n",
       "      <td>60508a2753b9b8cd7a54205a</td>\n",
       "      <td>2024-06-12</td>\n",
       "      <td>6</td>\n",
       "    </tr>\n",
       "    <tr>\n",
       "      <th>2</th>\n",
       "      <td>6090c48c993f2576455680bb</td>\n",
       "      <td>2024-04-19</td>\n",
       "      <td>60</td>\n",
       "    </tr>\n",
       "    <tr>\n",
       "      <th>3</th>\n",
       "      <td>6090cc8e0e92387513ecc459</td>\n",
       "      <td>2024-01-30</td>\n",
       "      <td>140</td>\n",
       "    </tr>\n",
       "    <tr>\n",
       "      <th>4</th>\n",
       "      <td>626b4f49b9fc23ba6141efc7</td>\n",
       "      <td>2024-05-28</td>\n",
       "      <td>21</td>\n",
       "    </tr>\n",
       "  </tbody>\n",
       "</table>\n",
       "</div>"
      ],
      "text/plain": [
       "                     userId lastWatchDate  recency\n",
       "0  6048416fd32a05de2483b165    2024-06-18        0\n",
       "1  60508a2753b9b8cd7a54205a    2024-06-12        6\n",
       "2  6090c48c993f2576455680bb    2024-04-19       60\n",
       "3  6090cc8e0e92387513ecc459    2024-01-30      140\n",
       "4  626b4f49b9fc23ba6141efc7    2024-05-28       21"
      ]
     },
     "execution_count": 52,
     "metadata": {},
     "output_type": "execute_result"
    }
   ],
   "source": [
    "# 計算每個學員距離最後一次觀看紀錄多少天、作為新近度 R\n",
    "\n",
    "recency_df = df.groupby(by='userId', as_index=False)['date'].max()\n",
    "recency_df.columns = ['userId','lastWatchDate']\n",
    "recency_df['recency'] = recency_df['lastWatchDate'].apply(lambda x: (now - x).days)\n",
    "recency_df.head()"
   ]
  },
  {
   "cell_type": "code",
   "execution_count": 53,
   "id": "44d0c67a-7e7b-4186-8628-6a7a7b85fb5b",
   "metadata": {},
   "outputs": [],
   "source": [
    "recency_df.drop('lastWatchDate',axis=1,inplace=True)"
   ]
  },
  {
   "cell_type": "code",
   "execution_count": 54,
   "id": "1c547994-d50b-4617-b0ce-0b8f7fd8c061",
   "metadata": {},
   "outputs": [
    {
     "data": {
      "text/html": [
       "<div>\n",
       "<style scoped>\n",
       "    .dataframe tbody tr th:only-of-type {\n",
       "        vertical-align: middle;\n",
       "    }\n",
       "\n",
       "    .dataframe tbody tr th {\n",
       "        vertical-align: top;\n",
       "    }\n",
       "\n",
       "    .dataframe thead th {\n",
       "        text-align: right;\n",
       "    }\n",
       "</style>\n",
       "<table border=\"1\" class=\"dataframe\">\n",
       "  <thead>\n",
       "    <tr style=\"text-align: right;\">\n",
       "      <th></th>\n",
       "      <th>userId</th>\n",
       "      <th>frequency</th>\n",
       "    </tr>\n",
       "  </thead>\n",
       "  <tbody>\n",
       "    <tr>\n",
       "      <th>0</th>\n",
       "      <td>6048416fd32a05de2483b165</td>\n",
       "      <td>82</td>\n",
       "    </tr>\n",
       "    <tr>\n",
       "      <th>1</th>\n",
       "      <td>60508a2753b9b8cd7a54205a</td>\n",
       "      <td>16</td>\n",
       "    </tr>\n",
       "    <tr>\n",
       "      <th>2</th>\n",
       "      <td>6090c48c993f2576455680bb</td>\n",
       "      <td>6</td>\n",
       "    </tr>\n",
       "    <tr>\n",
       "      <th>3</th>\n",
       "      <td>6090cc8e0e92387513ecc459</td>\n",
       "      <td>13</td>\n",
       "    </tr>\n",
       "    <tr>\n",
       "      <th>4</th>\n",
       "      <td>626b4f49b9fc23ba6141efc7</td>\n",
       "      <td>41</td>\n",
       "    </tr>\n",
       "  </tbody>\n",
       "</table>\n",
       "</div>"
      ],
      "text/plain": [
       "                     userId  frequency\n",
       "0  6048416fd32a05de2483b165         82\n",
       "1  60508a2753b9b8cd7a54205a         16\n",
       "2  6090c48c993f2576455680bb          6\n",
       "3  6090cc8e0e92387513ecc459         13\n",
       "4  626b4f49b9fc23ba6141efc7         41"
      ]
     },
     "execution_count": 54,
     "metadata": {},
     "output_type": "execute_result"
    }
   ],
   "source": [
    "# 計算每個學員的數據筆數、作為頻率 F\n",
    "frequency_df = df.groupby(by=['userId'], as_index=False)['classroomId'].count()\n",
    "frequency_df.columns = ['userId','frequency']\n",
    "frequency_df.head()"
   ]
  },
  {
   "cell_type": "code",
   "execution_count": 55,
   "id": "9f20561e-1f96-4622-8c35-4d384783b816",
   "metadata": {},
   "outputs": [
    {
     "data": {
      "text/html": [
       "<div>\n",
       "<style scoped>\n",
       "    .dataframe tbody tr th:only-of-type {\n",
       "        vertical-align: middle;\n",
       "    }\n",
       "\n",
       "    .dataframe tbody tr th {\n",
       "        vertical-align: top;\n",
       "    }\n",
       "\n",
       "    .dataframe thead th {\n",
       "        text-align: right;\n",
       "    }\n",
       "</style>\n",
       "<table border=\"1\" class=\"dataframe\">\n",
       "  <thead>\n",
       "    <tr style=\"text-align: right;\">\n",
       "      <th></th>\n",
       "      <th>userId</th>\n",
       "      <th>minutes</th>\n",
       "    </tr>\n",
       "  </thead>\n",
       "  <tbody>\n",
       "    <tr>\n",
       "      <th>0</th>\n",
       "      <td>6048416fd32a05de2483b165</td>\n",
       "      <td>369.455</td>\n",
       "    </tr>\n",
       "    <tr>\n",
       "      <th>1</th>\n",
       "      <td>60508a2753b9b8cd7a54205a</td>\n",
       "      <td>493.450</td>\n",
       "    </tr>\n",
       "    <tr>\n",
       "      <th>2</th>\n",
       "      <td>6090c48c993f2576455680bb</td>\n",
       "      <td>51.930</td>\n",
       "    </tr>\n",
       "    <tr>\n",
       "      <th>3</th>\n",
       "      <td>6090cc8e0e92387513ecc459</td>\n",
       "      <td>368.867</td>\n",
       "    </tr>\n",
       "    <tr>\n",
       "      <th>4</th>\n",
       "      <td>626b4f49b9fc23ba6141efc7</td>\n",
       "      <td>897.816</td>\n",
       "    </tr>\n",
       "  </tbody>\n",
       "</table>\n",
       "</div>"
      ],
      "text/plain": [
       "                     userId  minutes\n",
       "0  6048416fd32a05de2483b165  369.455\n",
       "1  60508a2753b9b8cd7a54205a  493.450\n",
       "2  6090c48c993f2576455680bb   51.930\n",
       "3  6090cc8e0e92387513ecc459  368.867\n",
       "4  626b4f49b9fc23ba6141efc7  897.816"
      ]
     },
     "execution_count": 55,
     "metadata": {},
     "output_type": "execute_result"
    }
   ],
   "source": [
    "# 計算每個學員所有觀看的總時長、作為觀看時長 M\n",
    "\n",
    "minute_df = df.groupby(by='userId',as_index=False).agg({'adjusted_learingTime': 'sum'})\n",
    "minute_df.columns = ['userId','minutes']\n",
    "minute_df.head()"
   ]
  },
  {
   "cell_type": "code",
   "execution_count": 56,
   "id": "65e08ebe-4906-4079-adae-8f2515260eb1",
   "metadata": {
    "scrolled": true
   },
   "outputs": [
    {
     "data": {
      "text/html": [
       "<div>\n",
       "<style scoped>\n",
       "    .dataframe tbody tr th:only-of-type {\n",
       "        vertical-align: middle;\n",
       "    }\n",
       "\n",
       "    .dataframe tbody tr th {\n",
       "        vertical-align: top;\n",
       "    }\n",
       "\n",
       "    .dataframe thead th {\n",
       "        text-align: right;\n",
       "    }\n",
       "</style>\n",
       "<table border=\"1\" class=\"dataframe\">\n",
       "  <thead>\n",
       "    <tr style=\"text-align: right;\">\n",
       "      <th></th>\n",
       "      <th>recency</th>\n",
       "      <th>frequency</th>\n",
       "      <th>minutes</th>\n",
       "    </tr>\n",
       "    <tr>\n",
       "      <th>userId</th>\n",
       "      <th></th>\n",
       "      <th></th>\n",
       "      <th></th>\n",
       "    </tr>\n",
       "  </thead>\n",
       "  <tbody>\n",
       "    <tr>\n",
       "      <th>6048416fd32a05de2483b165</th>\n",
       "      <td>0</td>\n",
       "      <td>82</td>\n",
       "      <td>369.455</td>\n",
       "    </tr>\n",
       "    <tr>\n",
       "      <th>60508a2753b9b8cd7a54205a</th>\n",
       "      <td>6</td>\n",
       "      <td>16</td>\n",
       "      <td>493.450</td>\n",
       "    </tr>\n",
       "    <tr>\n",
       "      <th>6090c48c993f2576455680bb</th>\n",
       "      <td>60</td>\n",
       "      <td>6</td>\n",
       "      <td>51.930</td>\n",
       "    </tr>\n",
       "    <tr>\n",
       "      <th>6090cc8e0e92387513ecc459</th>\n",
       "      <td>140</td>\n",
       "      <td>13</td>\n",
       "      <td>368.867</td>\n",
       "    </tr>\n",
       "    <tr>\n",
       "      <th>626b4f49b9fc23ba6141efc7</th>\n",
       "      <td>21</td>\n",
       "      <td>41</td>\n",
       "      <td>897.816</td>\n",
       "    </tr>\n",
       "  </tbody>\n",
       "</table>\n",
       "</div>"
      ],
      "text/plain": [
       "                          recency  frequency  minutes\n",
       "userId                                               \n",
       "6048416fd32a05de2483b165        0         82  369.455\n",
       "60508a2753b9b8cd7a54205a        6         16  493.450\n",
       "6090c48c993f2576455680bb       60          6   51.930\n",
       "6090cc8e0e92387513ecc459      140         13  368.867\n",
       "626b4f49b9fc23ba6141efc7       21         41  897.816"
      ]
     },
     "execution_count": 56,
     "metadata": {},
     "output_type": "execute_result"
    }
   ],
   "source": [
    "# 將資料合併為一個表格\n",
    "\n",
    "rfm_df = recency_df.merge(frequency_df,on='userId').merge(minute_df,on='userId')\n",
    "rfm_df.set_index('userId',inplace=True)\n",
    "rfm_df.head()"
   ]
  },
  {
   "cell_type": "code",
   "execution_count": 57,
   "id": "0832bc74-8d44-4239-8da5-29d13c7259ec",
   "metadata": {},
   "outputs": [
    {
     "data": {
      "image/png": "[encoded data removed]",
      "text/plain": [
       "<Figure size 1500x800 with 3 Axes>"
      ]
     },
     "metadata": {},
     "output_type": "display_data"
    }
   ],
   "source": [
    "# 以盒鬚圖查看資料分布狀況\n",
    "\n",
    "plt.figure(figsize=(15,8))\n",
    "\n",
    "plt.subplot(1, 3, 1)\n",
    "p1 = sns.boxplot(data=rfm_df, y=\"recency\", color=\"c\")\n",
    "p1.set(ylabel = None)\n",
    "plt.title(\"新近度\")\n",
    "\n",
    "plt.subplot(1, 3, 2)\n",
    "p2 = sns.boxplot(data=rfm_df, y=\"frequency\", color=\"m\")\n",
    "p2.set(ylabel = None)\n",
    "plt.title(\"頻率\")\n",
    "\n",
    "plt.subplot(1, 3, 3)\n",
    "p3 = sns.boxplot(data=rfm_df, y=\"minutes\",  color=\"y\")\n",
    "p3.set(ylabel = None)\n",
    "plt.title(\"觀看長度(分)\")\n",
    "\n",
    "plt.suptitle('RFM 盒鬚圖')\n",
    "plt.show()"
   ]
  },
  {
   "cell_type": "code",
   "execution_count": 58,
   "id": "c0bacd61-c851-4928-b0de-cbbe75d75a04",
   "metadata": {},
   "outputs": [
    {
     "data": {
      "text/plain": [
       "<Axes: xlabel='frequency', ylabel='users_count'>"
      ]
     },
     "execution_count": 58,
     "metadata": {},
     "output_type": "execute_result"
    },
    {
     "data": {
      "image/png": "[encoded data removed]",
      "text/plain": [
       "<Figure size 640x480 with 1 Axes>"
      ]
     },
     "metadata": {},
     "output_type": "display_data"
    }
   ],
   "source": [
    "# 頻率的分布圖、82次的是社群管理者\n",
    "frequency_df = rfm_df.groupby('frequency').size().reset_index(name='users_count')\n",
    "sns.barplot(data=frequency_df, x=\"frequency\", y='users_count')"
   ]
  },
  {
   "cell_type": "code",
   "execution_count": 59,
   "id": "8fc58207-e2d1-4c7a-b9b4-b04102c1b535",
   "metadata": {},
   "outputs": [
    {
     "data": {
      "text/plain": [
       "<matplotlib.patches.Polygon at 0x15f254a86b0>"
      ]
     },
     "execution_count": 59,
     "metadata": {},
     "output_type": "execute_result"
    },
    {
     "data": {
      "image/png": "[encoded data removed]",
      "text/plain": [
       "<Figure size 640x480 with 1 Axes>"
      ]
     },
     "metadata": {},
     "output_type": "display_data"
    }
   ],
   "source": [
    "# 以密度圖表示\n",
    "minutes_df = rfm_df.groupby('minutes').size().reset_index(name='users_count')\n",
    "sns.kdeplot(data=rfm_df, x=\"minutes\", shade=True)\n",
    "plt.axvspan(-50, 200, color='gray', alpha=0.3)"
   ]
  },
  {
   "cell_type": "code",
   "execution_count": 60,
   "id": "ced39d7b-b632-461e-90aa-552e3d66bc26",
   "metadata": {},
   "outputs": [
    {
     "name": "stdout",
     "output_type": "stream",
     "text": [
      "觀看時長最短為 0.116、最長為 1025.302\n"
     ]
    }
   ],
   "source": [
    "min_mins = rfm_df.minutes.min()\n",
    "max_mins = rfm_df.minutes.max()\n",
    "print(f'觀看時長最短為 {min_mins}、最長為 {max_mins}')"
   ]
  },
  {
   "cell_type": "code",
   "execution_count": 61,
   "id": "f7d5b06b-c404-48ef-ad01-2a834b43ec64",
   "metadata": {},
   "outputs": [
    {
     "data": {
      "image/png": "[encoded data removed]",
      "text/plain": [
       "<Figure size 640x480 with 1 Axes>"
      ]
     },
     "metadata": {},
     "output_type": "display_data"
    }
   ],
   "source": [
    "sns.kdeplot(data=rfm_df, x=\"minutes\", y=\"frequency\", shade=True)\n",
    "\n",
    "plt.title('頻率與觀看長度的密度圖')\n",
    "plt.show()"
   ]
  },
  {
   "cell_type": "markdown",
   "id": "d4b5f8e5-0042-4693-8170-2af7661b7a6a",
   "metadata": {},
   "source": [
    "# RFM 模式分析\n",
    "\n",
    "RFM 的分數設為 1 到 3 分，分數愈高代表正向，例如 r_score = 3 表示該名學員近期有線上學習，若 r_score = 1 則代表該名學員很久沒上線。"
   ]
  },
  {
   "cell_type": "code",
   "execution_count": 62,
   "id": "1e5f50d4-c6ed-497e-8c3b-4fbde8b6dfbe",
   "metadata": {},
   "outputs": [
    {
     "data": {
      "text/html": [
       "<div>\n",
       "<style scoped>\n",
       "    .dataframe tbody tr th:only-of-type {\n",
       "        vertical-align: middle;\n",
       "    }\n",
       "\n",
       "    .dataframe tbody tr th {\n",
       "        vertical-align: top;\n",
       "    }\n",
       "\n",
       "    .dataframe thead th {\n",
       "        text-align: right;\n",
       "    }\n",
       "</style>\n",
       "<table border=\"1\" class=\"dataframe\">\n",
       "  <thead>\n",
       "    <tr style=\"text-align: right;\">\n",
       "      <th></th>\n",
       "      <th>recency</th>\n",
       "      <th>frequency</th>\n",
       "      <th>minutes</th>\n",
       "    </tr>\n",
       "  </thead>\n",
       "  <tbody>\n",
       "    <tr>\n",
       "      <th>0.33</th>\n",
       "      <td>19.00</td>\n",
       "      <td>3.32</td>\n",
       "      <td>52.33840</td>\n",
       "    </tr>\n",
       "    <tr>\n",
       "      <th>0.67</th>\n",
       "      <td>77.68</td>\n",
       "      <td>9.68</td>\n",
       "      <td>218.62752</td>\n",
       "    </tr>\n",
       "  </tbody>\n",
       "</table>\n",
       "</div>"
      ],
      "text/plain": [
       "      recency  frequency    minutes\n",
       "0.33    19.00       3.32   52.33840\n",
       "0.67    77.68       9.68  218.62752"
      ]
     },
     "execution_count": 62,
     "metadata": {},
     "output_type": "execute_result"
    }
   ],
   "source": [
    "quantiles = rfm_df.quantile(q=[0.33,0.67])\n",
    "quantiles"
   ]
  },
  {
   "cell_type": "code",
   "execution_count": 63,
   "id": "f699965b-c8e2-47a9-a4d7-28a9cccc1fdc",
   "metadata": {},
   "outputs": [
    {
     "data": {
      "text/plain": [
       "{'recency': {0.33: 19.0, 0.67: 77.68},\n",
       " 'frequency': {0.33: 3.3200000000000003, 0.67: 9.680000000000007},\n",
       " 'minutes': {0.33: 52.3384, 0.67: 218.62752000000006}}"
      ]
     },
     "execution_count": 63,
     "metadata": {},
     "output_type": "execute_result"
    }
   ],
   "source": [
    "quantiles.to_dict()"
   ]
  },
  {
   "cell_type": "code",
   "execution_count": 64,
   "id": "8352d3f0-3808-4f5d-aa33-51116b5ace5f",
   "metadata": {},
   "outputs": [],
   "source": [
    "# 親近度愈近分數愈高、即 R 愈小的分數愈高\n",
    "def RScore(x,p,d):\n",
    "    if x <= d[p][0.33]:\n",
    "        return 3\n",
    "    elif x <= d[p][0.67]:\n",
    "        return 2\n",
    "    else:\n",
    "        return 1\n",
    "        \n",
    "# 頻率和觀看時長則是愈大的分數愈高\n",
    "def FMScore(x,p,d):\n",
    "    if x <= d[p][0.33]:\n",
    "        return 1\n",
    "    elif x <= d[p][0.67]:\n",
    "        return 2\n",
    "    else:\n",
    "        return 3"
   ]
  },
  {
   "cell_type": "code",
   "execution_count": 65,
   "id": "cb227c39-87e5-4b5e-9eb2-153f2f336e7d",
   "metadata": {
    "scrolled": true
   },
   "outputs": [
    {
     "data": {
      "text/html": [
       "<div>\n",
       "<style scoped>\n",
       "    .dataframe tbody tr th:only-of-type {\n",
       "        vertical-align: middle;\n",
       "    }\n",
       "\n",
       "    .dataframe tbody tr th {\n",
       "        vertical-align: top;\n",
       "    }\n",
       "\n",
       "    .dataframe thead th {\n",
       "        text-align: right;\n",
       "    }\n",
       "</style>\n",
       "<table border=\"1\" class=\"dataframe\">\n",
       "  <thead>\n",
       "    <tr style=\"text-align: right;\">\n",
       "      <th></th>\n",
       "      <th>recency</th>\n",
       "      <th>frequency</th>\n",
       "      <th>minutes</th>\n",
       "      <th>r_score</th>\n",
       "      <th>f_score</th>\n",
       "      <th>m_score</th>\n",
       "    </tr>\n",
       "    <tr>\n",
       "      <th>userId</th>\n",
       "      <th></th>\n",
       "      <th></th>\n",
       "      <th></th>\n",
       "      <th></th>\n",
       "      <th></th>\n",
       "      <th></th>\n",
       "    </tr>\n",
       "  </thead>\n",
       "  <tbody>\n",
       "    <tr>\n",
       "      <th>6048416fd32a05de2483b165</th>\n",
       "      <td>0</td>\n",
       "      <td>82</td>\n",
       "      <td>369.455</td>\n",
       "      <td>3</td>\n",
       "      <td>3</td>\n",
       "      <td>3</td>\n",
       "    </tr>\n",
       "    <tr>\n",
       "      <th>60508a2753b9b8cd7a54205a</th>\n",
       "      <td>6</td>\n",
       "      <td>16</td>\n",
       "      <td>493.450</td>\n",
       "      <td>3</td>\n",
       "      <td>3</td>\n",
       "      <td>3</td>\n",
       "    </tr>\n",
       "    <tr>\n",
       "      <th>6090c48c993f2576455680bb</th>\n",
       "      <td>60</td>\n",
       "      <td>6</td>\n",
       "      <td>51.930</td>\n",
       "      <td>2</td>\n",
       "      <td>2</td>\n",
       "      <td>1</td>\n",
       "    </tr>\n",
       "    <tr>\n",
       "      <th>6090cc8e0e92387513ecc459</th>\n",
       "      <td>140</td>\n",
       "      <td>13</td>\n",
       "      <td>368.867</td>\n",
       "      <td>1</td>\n",
       "      <td>3</td>\n",
       "      <td>3</td>\n",
       "    </tr>\n",
       "    <tr>\n",
       "      <th>626b4f49b9fc23ba6141efc7</th>\n",
       "      <td>21</td>\n",
       "      <td>41</td>\n",
       "      <td>897.816</td>\n",
       "      <td>2</td>\n",
       "      <td>3</td>\n",
       "      <td>3</td>\n",
       "    </tr>\n",
       "  </tbody>\n",
       "</table>\n",
       "</div>"
      ],
      "text/plain": [
       "                          recency  frequency  minutes  r_score  f_score  \\\n",
       "userId                                                                    \n",
       "6048416fd32a05de2483b165        0         82  369.455        3        3   \n",
       "60508a2753b9b8cd7a54205a        6         16  493.450        3        3   \n",
       "6090c48c993f2576455680bb       60          6   51.930        2        2   \n",
       "6090cc8e0e92387513ecc459      140         13  368.867        1        3   \n",
       "626b4f49b9fc23ba6141efc7       21         41  897.816        2        3   \n",
       "\n",
       "                          m_score  \n",
       "userId                             \n",
       "6048416fd32a05de2483b165        3  \n",
       "60508a2753b9b8cd7a54205a        3  \n",
       "6090c48c993f2576455680bb        1  \n",
       "6090cc8e0e92387513ecc459        3  \n",
       "626b4f49b9fc23ba6141efc7        3  "
      ]
     },
     "execution_count": 65,
     "metadata": {},
     "output_type": "execute_result"
    }
   ],
   "source": [
    "# 套用上述分類、將三個分數加到表格中\n",
    "\n",
    "rfm_seg = rfm_df\n",
    "rfm_seg['r_score'] = rfm_seg['recency'].apply(RScore, args=('recency',quantiles,))\n",
    "rfm_seg['f_score'] = rfm_seg['frequency'].apply(FMScore, args=('frequency',quantiles,))\n",
    "rfm_seg['m_score'] = rfm_seg['minutes'].apply(FMScore, args=('minutes',quantiles,))\n",
    "rfm_seg.head()"
   ]
  },
  {
   "cell_type": "code",
   "execution_count": 66,
   "id": "aa5fb857-617d-406c-8e7e-ef6cfb6f6fcd",
   "metadata": {
    "scrolled": true
   },
   "outputs": [
    {
     "data": {
      "text/html": [
       "<div>\n",
       "<style scoped>\n",
       "    .dataframe tbody tr th:only-of-type {\n",
       "        vertical-align: middle;\n",
       "    }\n",
       "\n",
       "    .dataframe tbody tr th {\n",
       "        vertical-align: top;\n",
       "    }\n",
       "\n",
       "    .dataframe thead th {\n",
       "        text-align: right;\n",
       "    }\n",
       "</style>\n",
       "<table border=\"1\" class=\"dataframe\">\n",
       "  <thead>\n",
       "    <tr style=\"text-align: right;\">\n",
       "      <th></th>\n",
       "      <th>recency</th>\n",
       "      <th>frequency</th>\n",
       "      <th>minutes</th>\n",
       "      <th>r_score</th>\n",
       "      <th>f_score</th>\n",
       "      <th>m_score</th>\n",
       "      <th>rfm_score</th>\n",
       "    </tr>\n",
       "    <tr>\n",
       "      <th>userId</th>\n",
       "      <th></th>\n",
       "      <th></th>\n",
       "      <th></th>\n",
       "      <th></th>\n",
       "      <th></th>\n",
       "      <th></th>\n",
       "      <th></th>\n",
       "    </tr>\n",
       "  </thead>\n",
       "  <tbody>\n",
       "    <tr>\n",
       "      <th>6048416fd32a05de2483b165</th>\n",
       "      <td>0</td>\n",
       "      <td>82</td>\n",
       "      <td>369.455</td>\n",
       "      <td>3</td>\n",
       "      <td>3</td>\n",
       "      <td>3</td>\n",
       "      <td>333</td>\n",
       "    </tr>\n",
       "    <tr>\n",
       "      <th>60508a2753b9b8cd7a54205a</th>\n",
       "      <td>6</td>\n",
       "      <td>16</td>\n",
       "      <td>493.450</td>\n",
       "      <td>3</td>\n",
       "      <td>3</td>\n",
       "      <td>3</td>\n",
       "      <td>333</td>\n",
       "    </tr>\n",
       "    <tr>\n",
       "      <th>6090c48c993f2576455680bb</th>\n",
       "      <td>60</td>\n",
       "      <td>6</td>\n",
       "      <td>51.930</td>\n",
       "      <td>2</td>\n",
       "      <td>2</td>\n",
       "      <td>1</td>\n",
       "      <td>221</td>\n",
       "    </tr>\n",
       "    <tr>\n",
       "      <th>6090cc8e0e92387513ecc459</th>\n",
       "      <td>140</td>\n",
       "      <td>13</td>\n",
       "      <td>368.867</td>\n",
       "      <td>1</td>\n",
       "      <td>3</td>\n",
       "      <td>3</td>\n",
       "      <td>133</td>\n",
       "    </tr>\n",
       "    <tr>\n",
       "      <th>626b4f49b9fc23ba6141efc7</th>\n",
       "      <td>21</td>\n",
       "      <td>41</td>\n",
       "      <td>897.816</td>\n",
       "      <td>2</td>\n",
       "      <td>3</td>\n",
       "      <td>3</td>\n",
       "      <td>233</td>\n",
       "    </tr>\n",
       "  </tbody>\n",
       "</table>\n",
       "</div>"
      ],
      "text/plain": [
       "                          recency  frequency  minutes  r_score  f_score  \\\n",
       "userId                                                                    \n",
       "6048416fd32a05de2483b165        0         82  369.455        3        3   \n",
       "60508a2753b9b8cd7a54205a        6         16  493.450        3        3   \n",
       "6090c48c993f2576455680bb       60          6   51.930        2        2   \n",
       "6090cc8e0e92387513ecc459      140         13  368.867        1        3   \n",
       "626b4f49b9fc23ba6141efc7       21         41  897.816        2        3   \n",
       "\n",
       "                          m_score rfm_score  \n",
       "userId                                       \n",
       "6048416fd32a05de2483b165        3       333  \n",
       "60508a2753b9b8cd7a54205a        3       333  \n",
       "6090c48c993f2576455680bb        1       221  \n",
       "6090cc8e0e92387513ecc459        3       133  \n",
       "626b4f49b9fc23ba6141efc7        3       233  "
      ]
     },
     "execution_count": 66,
     "metadata": {},
     "output_type": "execute_result"
    }
   ],
   "source": [
    "# 將三個分數結合成一個欄位、方便後續比對 \n",
    "rfm_seg['rfm_score'] = rfm_seg.r_score.map(str)  + rfm_seg.f_score.map(str)  + rfm_seg.m_score.map(str)\n",
    "rfm_seg.head()"
   ]
  },
  {
   "cell_type": "code",
   "execution_count": 67,
   "id": "14a541a3-f8ac-4fec-b7ed-fdbf1e646b16",
   "metadata": {},
   "outputs": [
    {
     "data": {
      "text/html": [
       "<div>\n",
       "<style scoped>\n",
       "    .dataframe tbody tr th:only-of-type {\n",
       "        vertical-align: middle;\n",
       "    }\n",
       "\n",
       "    .dataframe tbody tr th {\n",
       "        vertical-align: top;\n",
       "    }\n",
       "\n",
       "    .dataframe thead th {\n",
       "        text-align: right;\n",
       "    }\n",
       "</style>\n",
       "<table border=\"1\" class=\"dataframe\">\n",
       "  <thead>\n",
       "    <tr style=\"text-align: right;\">\n",
       "      <th></th>\n",
       "      <th>recency</th>\n",
       "      <th>frequency</th>\n",
       "      <th>minutes</th>\n",
       "      <th>r_score</th>\n",
       "      <th>f_score</th>\n",
       "      <th>m_score</th>\n",
       "      <th>rfm_score</th>\n",
       "    </tr>\n",
       "    <tr>\n",
       "      <th>userId</th>\n",
       "      <th></th>\n",
       "      <th></th>\n",
       "      <th></th>\n",
       "      <th></th>\n",
       "      <th></th>\n",
       "      <th></th>\n",
       "      <th></th>\n",
       "    </tr>\n",
       "  </thead>\n",
       "  <tbody>\n",
       "    <tr>\n",
       "      <th>66043c9eddee7910a5bd8b8f</th>\n",
       "      <td>14</td>\n",
       "      <td>37</td>\n",
       "      <td>1025.302</td>\n",
       "      <td>3</td>\n",
       "      <td>3</td>\n",
       "      <td>3</td>\n",
       "      <td>333</td>\n",
       "    </tr>\n",
       "    <tr>\n",
       "      <th>6634993956f3fb993d48a8e6</th>\n",
       "      <td>19</td>\n",
       "      <td>16</td>\n",
       "      <td>992.320</td>\n",
       "      <td>3</td>\n",
       "      <td>3</td>\n",
       "      <td>3</td>\n",
       "      <td>333</td>\n",
       "    </tr>\n",
       "    <tr>\n",
       "      <th>665d5ce1fec526cda54bd437</th>\n",
       "      <td>0</td>\n",
       "      <td>19</td>\n",
       "      <td>831.227</td>\n",
       "      <td>3</td>\n",
       "      <td>3</td>\n",
       "      <td>3</td>\n",
       "      <td>333</td>\n",
       "    </tr>\n",
       "    <tr>\n",
       "      <th>6634792e56f3fb993d475792</th>\n",
       "      <td>14</td>\n",
       "      <td>29</td>\n",
       "      <td>799.230</td>\n",
       "      <td>3</td>\n",
       "      <td>3</td>\n",
       "      <td>3</td>\n",
       "      <td>333</td>\n",
       "    </tr>\n",
       "    <tr>\n",
       "      <th>663f77f1d7b168e84fa352b1</th>\n",
       "      <td>14</td>\n",
       "      <td>25</td>\n",
       "      <td>709.543</td>\n",
       "      <td>3</td>\n",
       "      <td>3</td>\n",
       "      <td>3</td>\n",
       "      <td>333</td>\n",
       "    </tr>\n",
       "  </tbody>\n",
       "</table>\n",
       "</div>"
      ],
      "text/plain": [
       "                          recency  frequency   minutes  r_score  f_score  \\\n",
       "userId                                                                     \n",
       "66043c9eddee7910a5bd8b8f       14         37  1025.302        3        3   \n",
       "6634993956f3fb993d48a8e6       19         16   992.320        3        3   \n",
       "665d5ce1fec526cda54bd437        0         19   831.227        3        3   \n",
       "6634792e56f3fb993d475792       14         29   799.230        3        3   \n",
       "663f77f1d7b168e84fa352b1       14         25   709.543        3        3   \n",
       "\n",
       "                          m_score rfm_score  \n",
       "userId                                       \n",
       "66043c9eddee7910a5bd8b8f        3       333  \n",
       "6634993956f3fb993d48a8e6        3       333  \n",
       "665d5ce1fec526cda54bd437        3       333  \n",
       "6634792e56f3fb993d475792        3       333  \n",
       "663f77f1d7b168e84fa352b1        3       333  "
      ]
     },
     "execution_count": 67,
     "metadata": {},
     "output_type": "execute_result"
    }
   ],
   "source": [
    "# 找出三個分數都是最高的學員\n",
    "rfm_seg[rfm_seg['rfm_score']=='333'].sort_values('minutes', ascending=False).head()"
   ]
  },
  {
   "cell_type": "code",
   "execution_count": 68,
   "id": "49e926a0-946a-421e-a203-aa80452863a8",
   "metadata": {
    "scrolled": true
   },
   "outputs": [
    {
     "data": {
      "text/html": [
       "<div>\n",
       "<style scoped>\n",
       "    .dataframe tbody tr th:only-of-type {\n",
       "        vertical-align: middle;\n",
       "    }\n",
       "\n",
       "    .dataframe tbody tr th {\n",
       "        vertical-align: top;\n",
       "    }\n",
       "\n",
       "    .dataframe thead th {\n",
       "        text-align: right;\n",
       "    }\n",
       "</style>\n",
       "<table border=\"1\" class=\"dataframe\">\n",
       "  <thead>\n",
       "    <tr style=\"text-align: right;\">\n",
       "      <th></th>\n",
       "      <th>recency</th>\n",
       "      <th>frequency</th>\n",
       "      <th>minutes</th>\n",
       "      <th>r_score</th>\n",
       "      <th>f_score</th>\n",
       "      <th>m_score</th>\n",
       "      <th>rfm_score</th>\n",
       "    </tr>\n",
       "    <tr>\n",
       "      <th>userId</th>\n",
       "      <th></th>\n",
       "      <th></th>\n",
       "      <th></th>\n",
       "      <th></th>\n",
       "      <th></th>\n",
       "      <th></th>\n",
       "      <th></th>\n",
       "    </tr>\n",
       "  </thead>\n",
       "  <tbody>\n",
       "    <tr>\n",
       "      <th>6607d94bddee7910a5dfc002</th>\n",
       "      <td>80</td>\n",
       "      <td>1</td>\n",
       "      <td>34.53</td>\n",
       "      <td>1</td>\n",
       "      <td>1</td>\n",
       "      <td>1</td>\n",
       "      <td>111</td>\n",
       "    </tr>\n",
       "    <tr>\n",
       "      <th>65eecc619db5aec705b15e99</th>\n",
       "      <td>99</td>\n",
       "      <td>1</td>\n",
       "      <td>11.73</td>\n",
       "      <td>1</td>\n",
       "      <td>1</td>\n",
       "      <td>1</td>\n",
       "      <td>111</td>\n",
       "    </tr>\n",
       "    <tr>\n",
       "      <th>6607dfa3b2c5b35d01751778</th>\n",
       "      <td>80</td>\n",
       "      <td>2</td>\n",
       "      <td>9.55</td>\n",
       "      <td>1</td>\n",
       "      <td>1</td>\n",
       "      <td>1</td>\n",
       "      <td>111</td>\n",
       "    </tr>\n",
       "    <tr>\n",
       "      <th>65f3e6d8b724139eb8c48191</th>\n",
       "      <td>95</td>\n",
       "      <td>1</td>\n",
       "      <td>7.78</td>\n",
       "      <td>1</td>\n",
       "      <td>1</td>\n",
       "      <td>1</td>\n",
       "      <td>111</td>\n",
       "    </tr>\n",
       "    <tr>\n",
       "      <th>659f4c21503ddd1c7fc0801e</th>\n",
       "      <td>146</td>\n",
       "      <td>3</td>\n",
       "      <td>2.16</td>\n",
       "      <td>1</td>\n",
       "      <td>1</td>\n",
       "      <td>1</td>\n",
       "      <td>111</td>\n",
       "    </tr>\n",
       "  </tbody>\n",
       "</table>\n",
       "</div>"
      ],
      "text/plain": [
       "                          recency  frequency  minutes  r_score  f_score  \\\n",
       "userId                                                                    \n",
       "6607d94bddee7910a5dfc002       80          1    34.53        1        1   \n",
       "65eecc619db5aec705b15e99       99          1    11.73        1        1   \n",
       "6607dfa3b2c5b35d01751778       80          2     9.55        1        1   \n",
       "65f3e6d8b724139eb8c48191       95          1     7.78        1        1   \n",
       "659f4c21503ddd1c7fc0801e      146          3     2.16        1        1   \n",
       "\n",
       "                          m_score rfm_score  \n",
       "userId                                       \n",
       "6607d94bddee7910a5dfc002        1       111  \n",
       "65eecc619db5aec705b15e99        1       111  \n",
       "6607dfa3b2c5b35d01751778        1       111  \n",
       "65f3e6d8b724139eb8c48191        1       111  \n",
       "659f4c21503ddd1c7fc0801e        1       111  "
      ]
     },
     "execution_count": 68,
     "metadata": {},
     "output_type": "execute_result"
    }
   ],
   "source": [
    "# 找出三個分數都是最低的學員\n",
    "rfm_seg[rfm_seg['rfm_score']=='111'].sort_values('minutes', ascending=False).head()"
   ]
  },
  {
   "cell_type": "code",
   "execution_count": 69,
   "id": "1024741c-d0fd-4140-9501-5e457f77e406",
   "metadata": {},
   "outputs": [
    {
     "data": {
      "text/html": [
       "<div>\n",
       "<style scoped>\n",
       "    .dataframe tbody tr th:only-of-type {\n",
       "        vertical-align: middle;\n",
       "    }\n",
       "\n",
       "    .dataframe tbody tr th {\n",
       "        vertical-align: top;\n",
       "    }\n",
       "\n",
       "    .dataframe thead th {\n",
       "        text-align: right;\n",
       "    }\n",
       "</style>\n",
       "<table border=\"1\" class=\"dataframe\">\n",
       "  <thead>\n",
       "    <tr style=\"text-align: right;\">\n",
       "      <th></th>\n",
       "      <th>recency</th>\n",
       "      <th>frequency</th>\n",
       "      <th>minutes</th>\n",
       "      <th>r_score</th>\n",
       "      <th>f_score</th>\n",
       "      <th>m_score</th>\n",
       "      <th>rfm_score</th>\n",
       "    </tr>\n",
       "    <tr>\n",
       "      <th>userId</th>\n",
       "      <th></th>\n",
       "      <th></th>\n",
       "      <th></th>\n",
       "      <th></th>\n",
       "      <th></th>\n",
       "      <th></th>\n",
       "      <th></th>\n",
       "    </tr>\n",
       "  </thead>\n",
       "  <tbody>\n",
       "    <tr>\n",
       "      <th>6090cc8e0e92387513ecc459</th>\n",
       "      <td>140</td>\n",
       "      <td>13</td>\n",
       "      <td>368.867</td>\n",
       "      <td>1</td>\n",
       "      <td>3</td>\n",
       "      <td>3</td>\n",
       "      <td>133</td>\n",
       "    </tr>\n",
       "    <tr>\n",
       "      <th>65a79608f70bcc6f5aabc0a5</th>\n",
       "      <td>137</td>\n",
       "      <td>19</td>\n",
       "      <td>679.960</td>\n",
       "      <td>1</td>\n",
       "      <td>3</td>\n",
       "      <td>3</td>\n",
       "      <td>133</td>\n",
       "    </tr>\n",
       "    <tr>\n",
       "      <th>65dadac135e6951e829a1973</th>\n",
       "      <td>113</td>\n",
       "      <td>10</td>\n",
       "      <td>249.144</td>\n",
       "      <td>1</td>\n",
       "      <td>3</td>\n",
       "      <td>3</td>\n",
       "      <td>133</td>\n",
       "    </tr>\n",
       "    <tr>\n",
       "      <th>65e32e05db499cb1c5747b32</th>\n",
       "      <td>107</td>\n",
       "      <td>10</td>\n",
       "      <td>102.890</td>\n",
       "      <td>1</td>\n",
       "      <td>3</td>\n",
       "      <td>2</td>\n",
       "      <td>132</td>\n",
       "    </tr>\n",
       "  </tbody>\n",
       "</table>\n",
       "</div>"
      ],
      "text/plain": [
       "                          recency  frequency  minutes  r_score  f_score  \\\n",
       "userId                                                                    \n",
       "6090cc8e0e92387513ecc459      140         13  368.867        1        3   \n",
       "65a79608f70bcc6f5aabc0a5      137         19  679.960        1        3   \n",
       "65dadac135e6951e829a1973      113         10  249.144        1        3   \n",
       "65e32e05db499cb1c5747b32      107         10  102.890        1        3   \n",
       "\n",
       "                          m_score rfm_score  \n",
       "userId                                       \n",
       "6090cc8e0e92387513ecc459        3       133  \n",
       "65a79608f70bcc6f5aabc0a5        3       133  \n",
       "65dadac135e6951e829a1973        3       133  \n",
       "65e32e05db499cb1c5747b32        2       132  "
      ]
     },
     "execution_count": 69,
     "metadata": {},
     "output_type": "execute_result"
    }
   ],
   "source": [
    "# 找出頻率很高、但較久沒有上線的學員\n",
    "rfm_seg[(rfm_seg['r_score']==1) & (rfm_seg['f_score']==3)]"
   ]
  },
  {
   "cell_type": "code",
   "execution_count": 70,
   "id": "ab04bbbb-d441-4b2a-a516-2a0520891b5c",
   "metadata": {},
   "outputs": [
    {
     "data": {
      "text/html": [
       "<div>\n",
       "<style scoped>\n",
       "    .dataframe tbody tr th:only-of-type {\n",
       "        vertical-align: middle;\n",
       "    }\n",
       "\n",
       "    .dataframe tbody tr th {\n",
       "        vertical-align: top;\n",
       "    }\n",
       "\n",
       "    .dataframe thead th {\n",
       "        text-align: right;\n",
       "    }\n",
       "</style>\n",
       "<table border=\"1\" class=\"dataframe\">\n",
       "  <thead>\n",
       "    <tr style=\"text-align: right;\">\n",
       "      <th></th>\n",
       "      <th>r_score</th>\n",
       "      <th>f_score</th>\n",
       "      <th>users_count</th>\n",
       "      <th>% of users</th>\n",
       "    </tr>\n",
       "  </thead>\n",
       "  <tbody>\n",
       "    <tr>\n",
       "      <th>0</th>\n",
       "      <td>1</td>\n",
       "      <td>1</td>\n",
       "      <td>18</td>\n",
       "      <td>17.142857</td>\n",
       "    </tr>\n",
       "    <tr>\n",
       "      <th>1</th>\n",
       "      <td>1</td>\n",
       "      <td>2</td>\n",
       "      <td>13</td>\n",
       "      <td>12.380952</td>\n",
       "    </tr>\n",
       "    <tr>\n",
       "      <th>2</th>\n",
       "      <td>1</td>\n",
       "      <td>3</td>\n",
       "      <td>4</td>\n",
       "      <td>3.809524</td>\n",
       "    </tr>\n",
       "    <tr>\n",
       "      <th>3</th>\n",
       "      <td>2</td>\n",
       "      <td>1</td>\n",
       "      <td>11</td>\n",
       "      <td>10.476190</td>\n",
       "    </tr>\n",
       "    <tr>\n",
       "      <th>4</th>\n",
       "      <td>2</td>\n",
       "      <td>2</td>\n",
       "      <td>12</td>\n",
       "      <td>11.428571</td>\n",
       "    </tr>\n",
       "    <tr>\n",
       "      <th>5</th>\n",
       "      <td>2</td>\n",
       "      <td>3</td>\n",
       "      <td>11</td>\n",
       "      <td>10.476190</td>\n",
       "    </tr>\n",
       "    <tr>\n",
       "      <th>6</th>\n",
       "      <td>3</td>\n",
       "      <td>1</td>\n",
       "      <td>6</td>\n",
       "      <td>5.714286</td>\n",
       "    </tr>\n",
       "    <tr>\n",
       "      <th>7</th>\n",
       "      <td>3</td>\n",
       "      <td>2</td>\n",
       "      <td>10</td>\n",
       "      <td>9.523810</td>\n",
       "    </tr>\n",
       "    <tr>\n",
       "      <th>8</th>\n",
       "      <td>3</td>\n",
       "      <td>3</td>\n",
       "      <td>20</td>\n",
       "      <td>19.047619</td>\n",
       "    </tr>\n",
       "  </tbody>\n",
       "</table>\n",
       "</div>"
      ],
      "text/plain": [
       "   r_score  f_score  users_count  % of users\n",
       "0        1        1           18   17.142857\n",
       "1        1        2           13   12.380952\n",
       "2        1        3            4    3.809524\n",
       "3        2        1           11   10.476190\n",
       "4        2        2           12   11.428571\n",
       "5        2        3           11   10.476190\n",
       "6        3        1            6    5.714286\n",
       "7        3        2           10    9.523810\n",
       "8        3        3           20   19.047619"
      ]
     },
     "execution_count": 70,
     "metadata": {},
     "output_type": "execute_result"
    }
   ],
   "source": [
    "# 進一步分析新近度和頻率、以熱力圖表示\n",
    "rf_group = rfm_df.groupby(['r_score', 'f_score']).size().reset_index(name='users_count')\n",
    "total_users = rfm_df.shape[0]\n",
    "rf_group['% of users'] = (rf_group['users_count'] / total_users) * 100\n",
    "rf_group"
   ]
  },
  {
   "cell_type": "code",
   "execution_count": 71,
   "id": "33b87538-45e9-4baf-8011-a8ccccea1651",
   "metadata": {},
   "outputs": [
    {
     "data": {
      "image/png": "[encoded data removed]",
      "text/plain": [
       "<Figure size 640x480 with 2 Axes>"
      ]
     },
     "metadata": {},
     "output_type": "display_data"
    }
   ],
   "source": [
    "heatmap_df = pd.pivot_table(rf_group, index='r_score', columns='f_score', values='% of users')\n",
    "heatmap_df = heatmap_df.reindex(sorted(heatmap_df.index, reverse=True))\n",
    "\n",
    "sns.heatmap(heatmap_df, annot=True, cmap='YlGnBu', fmt='.1f')\n",
    "plt.title('新近度與頻率熱力圖')\n",
    "plt.show()"
   ]
  },
  {
   "cell_type": "markdown",
   "id": "fe5e9021-cd21-4837-98f0-3d25c4d6e159",
   "metadata": {},
   "source": [
    "從熱力圖可以發現，頻率低近期低(17.1%)，和頻率高近期高(19.0%)的用戶占比較多，而兩者相斥的佔比較少。\n",
    "\n",
    "前面我們將三項分數分開比較，接著我們將它們加總，最高 9 分(RFM皆為3)、最低 3 分(RFM皆為1分)並定義以下分類:\n",
    "- 活躍學員（9分）: 這些學習者在最近的時間段內經常參與線上學習，並且花費相當多的時間學習。他們通常對於學習充滿熱情並且有強烈的學習動機。\n",
    "- 潛在學員（7~8分）: 在過去的一段時間內參與過線上學習，參與頻率或觀看時間在中間。這些學習者可能已得到他們需要的知識，可以持續觀察。\n",
    "- 須關注學員（5~6分）: 這些學員可能剛上線、需要更多的指導和支持來幫助他們進入線上學習環境。或是學習成效不如預期，需要更多的鼓勵和支持來提高他們的互動。\n",
    "- 不活躍學員（3~4分）: 這些學員已經很長一段時間沒有參與線上學習了，或者他們只是偶爾參與。可能需要再次激發他們的學習興趣和動機。"
   ]
  },
  {
   "cell_type": "code",
   "execution_count": 72,
   "id": "ba619da8-d8e0-4d34-9650-c2614dfff8bd",
   "metadata": {},
   "outputs": [
    {
     "name": "stdout",
     "output_type": "stream",
     "text": [
      "userId\n",
      "6048416fd32a05de2483b165    9\n",
      "60508a2753b9b8cd7a54205a    9\n",
      "6090c48c993f2576455680bb    5\n",
      "6090cc8e0e92387513ecc459    7\n",
      "626b4f49b9fc23ba6141efc7    8\n",
      "Name: rfm_sum, dtype: int64\n"
     ]
    }
   ],
   "source": [
    "# 將三項份數加總\n",
    "rfm_unique = rfm_seg.groupby('rfm_score')['rfm_score'].nunique()\n",
    "rfm_seg['rfm_sum'] = rfm_seg[['r_score','f_score','m_score']].sum(axis=1)\n",
    "print(rfm_seg['rfm_sum'].head())"
   ]
  },
  {
   "cell_type": "code",
   "execution_count": 73,
   "id": "caaa1f99-a647-4bbf-a983-87083f4e0f9e",
   "metadata": {},
   "outputs": [
    {
     "data": {
      "text/html": [
       "<div>\n",
       "<style scoped>\n",
       "    .dataframe tbody tr th:only-of-type {\n",
       "        vertical-align: middle;\n",
       "    }\n",
       "\n",
       "    .dataframe tbody tr th {\n",
       "        vertical-align: top;\n",
       "    }\n",
       "\n",
       "    .dataframe thead th {\n",
       "        text-align: right;\n",
       "    }\n",
       "</style>\n",
       "<table border=\"1\" class=\"dataframe\">\n",
       "  <thead>\n",
       "    <tr style=\"text-align: right;\">\n",
       "      <th></th>\n",
       "      <th>recency</th>\n",
       "      <th>frequency</th>\n",
       "      <th>minutes</th>\n",
       "      <th>r_score</th>\n",
       "      <th>f_score</th>\n",
       "      <th>m_score</th>\n",
       "      <th>rfm_score</th>\n",
       "      <th>rfm_sum</th>\n",
       "      <th>rfm_level</th>\n",
       "    </tr>\n",
       "    <tr>\n",
       "      <th>userId</th>\n",
       "      <th></th>\n",
       "      <th></th>\n",
       "      <th></th>\n",
       "      <th></th>\n",
       "      <th></th>\n",
       "      <th></th>\n",
       "      <th></th>\n",
       "      <th></th>\n",
       "      <th></th>\n",
       "    </tr>\n",
       "  </thead>\n",
       "  <tbody>\n",
       "    <tr>\n",
       "      <th>6048416fd32a05de2483b165</th>\n",
       "      <td>0</td>\n",
       "      <td>82</td>\n",
       "      <td>369.455</td>\n",
       "      <td>3</td>\n",
       "      <td>3</td>\n",
       "      <td>3</td>\n",
       "      <td>333</td>\n",
       "      <td>9</td>\n",
       "      <td>Active</td>\n",
       "    </tr>\n",
       "    <tr>\n",
       "      <th>60508a2753b9b8cd7a54205a</th>\n",
       "      <td>6</td>\n",
       "      <td>16</td>\n",
       "      <td>493.450</td>\n",
       "      <td>3</td>\n",
       "      <td>3</td>\n",
       "      <td>3</td>\n",
       "      <td>333</td>\n",
       "      <td>9</td>\n",
       "      <td>Active</td>\n",
       "    </tr>\n",
       "    <tr>\n",
       "      <th>6090c48c993f2576455680bb</th>\n",
       "      <td>60</td>\n",
       "      <td>6</td>\n",
       "      <td>51.930</td>\n",
       "      <td>2</td>\n",
       "      <td>2</td>\n",
       "      <td>1</td>\n",
       "      <td>221</td>\n",
       "      <td>5</td>\n",
       "      <td>Attention-Required</td>\n",
       "    </tr>\n",
       "    <tr>\n",
       "      <th>6090cc8e0e92387513ecc459</th>\n",
       "      <td>140</td>\n",
       "      <td>13</td>\n",
       "      <td>368.867</td>\n",
       "      <td>1</td>\n",
       "      <td>3</td>\n",
       "      <td>3</td>\n",
       "      <td>133</td>\n",
       "      <td>7</td>\n",
       "      <td>Potential</td>\n",
       "    </tr>\n",
       "    <tr>\n",
       "      <th>626b4f49b9fc23ba6141efc7</th>\n",
       "      <td>21</td>\n",
       "      <td>41</td>\n",
       "      <td>897.816</td>\n",
       "      <td>2</td>\n",
       "      <td>3</td>\n",
       "      <td>3</td>\n",
       "      <td>233</td>\n",
       "      <td>8</td>\n",
       "      <td>Potential</td>\n",
       "    </tr>\n",
       "  </tbody>\n",
       "</table>\n",
       "</div>"
      ],
      "text/plain": [
       "                          recency  frequency  minutes  r_score  f_score  \\\n",
       "userId                                                                    \n",
       "6048416fd32a05de2483b165        0         82  369.455        3        3   \n",
       "60508a2753b9b8cd7a54205a        6         16  493.450        3        3   \n",
       "6090c48c993f2576455680bb       60          6   51.930        2        2   \n",
       "6090cc8e0e92387513ecc459      140         13  368.867        1        3   \n",
       "626b4f49b9fc23ba6141efc7       21         41  897.816        2        3   \n",
       "\n",
       "                          m_score rfm_score  rfm_sum           rfm_level  \n",
       "userId                                                                    \n",
       "6048416fd32a05de2483b165        3       333        9              Active  \n",
       "60508a2753b9b8cd7a54205a        3       333        9              Active  \n",
       "6090c48c993f2576455680bb        1       221        5  Attention-Required  \n",
       "6090cc8e0e92387513ecc459        3       133        7           Potential  \n",
       "626b4f49b9fc23ba6141efc7        3       233        8           Potential  "
      ]
     },
     "execution_count": 73,
     "metadata": {},
     "output_type": "execute_result"
    }
   ],
   "source": [
    "# 依總分作分類\n",
    "def rfm_level(df):\n",
    "    if df['rfm_sum'] == 9:\n",
    "        return 'Active'\n",
    "    elif ((df['rfm_sum'] >= 7) and (df['rfm_sum'] < 9)):\n",
    "        return 'Potential'\n",
    "    elif ((df['rfm_sum'] >= 5) and (df['rfm_sum'] < 7)):\n",
    "        return 'Attention-Required'\n",
    "    else:\n",
    "        return 'Inactive'\n",
    "\n",
    "rfm_seg['rfm_level'] = rfm_seg.apply(rfm_level, axis=1)\n",
    "rfm_seg.head()"
   ]
  },
  {
   "cell_type": "code",
   "execution_count": 74,
   "id": "5c578799-af55-4431-ace7-0725fa379dbe",
   "metadata": {},
   "outputs": [
    {
     "name": "stdout",
     "output_type": "stream",
     "text": [
      "                   recency frequency minutes      \n",
      "                      mean      mean    mean count\n",
      "rfm_level                                         \n",
      "Active                8.00     23.29  539.99    17\n",
      "Attention-Required   53.28      4.48   86.87    25\n",
      "Inactive             95.27      2.70   26.66    33\n",
      "Potential            38.60     12.83  300.87    30\n"
     ]
    }
   ],
   "source": [
    "# 計算每個分類的平均值與個數\n",
    "rfm_agg = rfm_seg.groupby('rfm_level').agg({\n",
    "    'recency': 'mean',\n",
    "    'frequency': 'mean',\n",
    "    'minutes': ['mean', 'count']\n",
    "}).round(2)\n",
    "print(rfm_agg)"
   ]
  },
  {
   "cell_type": "code",
   "execution_count": 75,
   "id": "3395d011-01bc-448f-b60b-56f20c6162f9",
   "metadata": {},
   "outputs": [
    {
     "data": {
      "image/png": "[encoded data removed]",
      "text/plain": [
       "<Figure size 1600x800 with 1 Axes>"
      ]
     },
     "metadata": {},
     "output_type": "display_data"
    }
   ],
   "source": [
    "# 使用 squarify 套件來畫 RFM 模型常見的樹狀圖\n",
    "import squarify\n",
    "\n",
    "rfm_agg.columns = ['RecencyMean','FrequencyMean','MonetaryMean', 'Count']\n",
    "#Create our plot and resize it.\n",
    "fig = plt.gcf()\n",
    "ax = fig.add_subplot()\n",
    "fig.set_size_inches(16, 8)\n",
    "squarify.plot(sizes=rfm_agg['Count'], \n",
    "              label=['活躍學員 ', '潛力學員', '須關注學員', '不活躍學員'], \n",
    "              color=[\"yellow\", \"green\", \"violet\",  \"red\"],\n",
    "              text_kwargs={'fontsize':18})\n",
    "plt.title(\"RFM 學員分類帽\", fontsize=18, fontweight=\"bold\")\n",
    "plt.axis('off')\n",
    "plt.show()"
   ]
  },
  {
   "cell_type": "markdown",
   "id": "0890a1e4-1fee-4335-aa88-91870194acf5",
   "metadata": {},
   "source": [
    "RFM analysis reference:\n",
    "\n",
    "- https://www.kaggle.com/code/sarahm/customer-segmentation-using-rfm-analysis\n",
    "- https://joaocorreia.io/blog/rfm-analysis-increase-sales-by-segmenting-your-customers.html\n",
    "- https://medium.com/analytics-vidhya/data-visualization-and-rfm-recency-frequency-and-monetary-analysis-using-python-customer-d7e129437aac"
   ]
  }
 ],
 "metadata": {
  "kernelspec": {
   "display_name": "Python 3 (ipykernel)",
   "language": "python",
   "name": "python3"
  },
  "language_info": {
   "codemirror_mode": {
    "name": "ipython",
    "version": 3
   },
   "file_extension": ".py",
   "mimetype": "text/x-python",
   "name": "python",
   "nbconvert_exporter": "python",
   "pygments_lexer": "ipython3",
   "version": "3.12.3"
  }
 },
 "nbformat": 4,
 "nbformat_minor": 5
}
